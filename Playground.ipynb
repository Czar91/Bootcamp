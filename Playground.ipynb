{
 "cells": [
  {
   "cell_type": "code",
   "execution_count": 1,
   "metadata": {},
   "outputs": [
    {
     "name": "stdout",
     "output_type": "stream",
     "text": [
      "not even:1\n",
      "2\n",
      "not even:3\n",
      "4\n",
      "not even:5\n",
      "6\n",
      "not even:7\n",
      "8\n",
      "not even:9\n",
      "10\n"
     ]
    }
   ],
   "source": [
    "mylist = [1,2,3,4,5,6,7,8,9,10]\n",
    "for object in mylist:\n",
    "    if object % 2 == 0:\n",
    "        print(object)\n",
    "    else:\n",
    "        print(f\"not even:{object}\")"
   ]
  },
  {
   "cell_type": "code",
   "execution_count": 2,
   "metadata": {},
   "outputs": [
    {
     "name": "stdout",
     "output_type": "stream",
     "text": [
      "55\n"
     ]
    }
   ],
   "source": [
    "list_summa = 0\n",
    "for object in mylist:\n",
    "    list_summa = object + list_summa\n",
    "print(list_summa)    "
   ]
  },
  {
   "cell_type": "code",
   "execution_count": 3,
   "metadata": {},
   "outputs": [
    {
     "name": "stdout",
     "output_type": "stream",
     "text": [
      "[283.15, 288.15, 293.15, 298.15, 303.15, 308.15]\n"
     ]
    }
   ],
   "source": [
    "celsius = [10,15,20,25,30,35]\n",
    "#kelvin = 273.15 + celsius\n",
    "#celsius to kelvin\n",
    "Kelvin = [ num + 273.15 for num in celsius]\n",
    "print(Kelvin)"
   ]
  },
  {
   "cell_type": "code",
   "execution_count": 4,
   "metadata": {},
   "outputs": [
    {
     "name": "stdout",
     "output_type": "stream",
     "text": [
      "283.15\n",
      "288.15\n",
      "293.15\n",
      "298.15\n",
      "303.15\n",
      "308.15\n"
     ]
    }
   ],
   "source": [
    "for num in celsius:\n",
    "    Kelvin = num + 273.15\n",
    "    print(Kelvin)"
   ]
  },
  {
   "cell_type": "code",
   "execution_count": 5,
   "metadata": {},
   "outputs": [
    {
     "name": "stdout",
     "output_type": "stream",
     "text": [
      "[283.15, 288.15, 293.15, 298.15, 303.15, 308.15]\n"
     ]
    }
   ],
   "source": [
    "Kelvin = []\n",
    "for num in celsius:\n",
    "    Kelvin.append(num + 273.15)\n",
    "print(Kelvin)"
   ]
  },
  {
   "cell_type": "code",
   "execution_count": 6,
   "metadata": {},
   "outputs": [
    {
     "name": "stdout",
     "output_type": "stream",
     "text": [
      "start\n",
      "s\n",
      "sentence\n"
     ]
    }
   ],
   "source": [
    "st = 'Print only the words that start with s in this sentence'\n",
    "list1 = list(st.split())\n",
    "for item in list1:\n",
    "    if item[0] == 's':\n",
    "        print(item)"
   ]
  },
  {
   "cell_type": "code",
   "execution_count": 7,
   "metadata": {},
   "outputs": [
    {
     "name": "stdout",
     "output_type": "stream",
     "text": [
      "s\n",
      "s\n",
      "s\n",
      "s\n",
      "s\n"
     ]
    }
   ],
   "source": [
    "st = 'Print only the words that start with s in this sentence'\n",
    "for let in st:\n",
    "    if let == 's' :\n",
    "        print(let)"
   ]
  },
  {
   "cell_type": "code",
   "execution_count": 8,
   "metadata": {},
   "outputs": [
    {
     "ename": "SyntaxError",
     "evalue": "invalid syntax (<ipython-input-8-1538dbdd86a8>, line 1)",
     "output_type": "error",
     "traceback": [
      "\u001b[1;36m  File \u001b[1;32m\"<ipython-input-8-1538dbdd86a8>\"\u001b[1;36m, line \u001b[1;32m1\u001b[0m\n\u001b[1;33m    leksi = word if word[0] == 's'for word in st.split() :\u001b[0m\n\u001b[1;37m                                  ^\u001b[0m\n\u001b[1;31mSyntaxError\u001b[0m\u001b[1;31m:\u001b[0m invalid syntax\n"
     ]
    }
   ],
   "source": [
    "leksi = word if word[0] == 's'for word in st.split() :\n"
   ]
  },
  {
   "cell_type": "code",
   "execution_count": null,
   "metadata": {},
   "outputs": [],
   "source": [
    "for num in range(0,50):\n",
    "    if num % 3 == 0:\n",
    "        print(num)"
   ]
  },
  {
   "cell_type": "code",
   "execution_count": null,
   "metadata": {},
   "outputs": [],
   "source": [
    "st = \"see eyes needing death not unchanged deep eclipse stirs \"\n",
    "list3 = []\n",
    "st.split()\n",
    "for word in st.split():\n",
    "    list3.append(word[0])\n",
    "    for letter in list3:\n",
    "        if letter == \"z\":\n",
    "            list3.pop()\n",
    "            print(\"OoOoo it's a banana\")\n",
    "print(list3)"
   ]
  },
  {
   "cell_type": "code",
   "execution_count": null,
   "metadata": {},
   "outputs": [],
   "source": [
    "mylist4 = [1,2,3,4,5,6,7,8,9]"
   ]
  },
  {
   "cell_type": "code",
   "execution_count": null,
   "metadata": {},
   "outputs": [],
   "source": [
    "for num1 in range(35,7001):\n",
    "    if num1 % 5 == 0 and num1 % 7 == 0:\n",
    "        print(num1)"
   ]
  },
  {
   "cell_type": "code",
   "execution_count": null,
   "metadata": {
    "scrolled": true
   },
   "outputs": [],
   "source": [
    "my_list = ['*']\n",
    "for item5 in range(1,6):  \n",
    "    print(my_list)\n",
    "    my_list.append('*')\n",
    "for item5 in range(7,12):\n",
    "    my_list.pop()\n",
    "    print(my_list)"
   ]
  },
  {
   "cell_type": "code",
   "execution_count": null,
   "metadata": {},
   "outputs": [],
   "source": [
    "my_list9 = ['*']\n",
    "for item6 in range(1,6):\n",
    "    my_list9.append('***')\n",
    "    print(my_list9)"
   ]
  },
  {
   "cell_type": "code",
   "execution_count": null,
   "metadata": {
    "scrolled": true
   },
   "outputs": [],
   "source": [
    "my_string = (\"*\")\n",
    "for item7 in range(1,7):\n",
    "    print(my_string)\n",
    "    my_string = my_string + \"*****\"\n",
    "for item7 in range(8,14):\n",
    "    print(my_string)\n",
    "    my_string = my_string [:-5]\n",
    "print(my_string)"
   ]
  },
  {
   "cell_type": "code",
   "execution_count": null,
   "metadata": {
    "scrolled": true
   },
   "outputs": [],
   "source": [
    "my_string = (\"*\")\n",
    "for item7 in range(1,3):\n",
    "    print(my_string)\n",
    "    my_string = my_string + \"***\"\n",
    "for item7 in range(4,6):\n",
    "    print(my_string)\n",
    "    my_string = my_string [:-3]\n",
    "for item7 in range(7,9):\n",
    "    print(my_string)\n",
    "    my_string = my_string + \"***\"\n",
    "for item7 in range(10,13):\n",
    "    my_string = my_string [:-3]\n",
    "print(my_string)"
   ]
  },
  {
   "cell_type": "code",
   "execution_count": null,
   "metadata": {},
   "outputs": [],
   "source": [
    "my_string = (\"*\")\n",
    "for item7 in range(1,3):\n",
    "    print(my_string)\n",
    "    my_string = my_string + \"***\""
   ]
  },
  {
   "cell_type": "code",
   "execution_count": null,
   "metadata": {},
   "outputs": [],
   "source": [
    "/help"
   ]
  },
  {
   "cell_type": "code",
   "execution_count": null,
   "metadata": {},
   "outputs": [],
   "source": [
    "mylistt = [1,2,3,4,5,6,7,8]"
   ]
  },
  {
   "cell_type": "code",
   "execution_count": null,
   "metadata": {},
   "outputs": [],
   "source": [
    "mylistt.insert"
   ]
  },
  {
   "cell_type": "code",
   "execution_count": null,
   "metadata": {},
   "outputs": [],
   "source": [
    "mylistt"
   ]
  },
  {
   "cell_type": "code",
   "execution_count": null,
   "metadata": {},
   "outputs": [],
   "source": [
    "def myfunc(name):\n",
    "    print('Hello,{}'.format(name))"
   ]
  },
  {
   "cell_type": "code",
   "execution_count": null,
   "metadata": {},
   "outputs": [],
   "source": [
    "def combo_string(a, b):\n",
    "  mystring = ''\n",
    "  for letter in (a,b):\n",
    "    if len(a)>len(b):\n",
    "      mystring = b+a+b\n",
    "    else:\n",
    "      mystring = a+b+a\n",
    "    return mystring"
   ]
  },
  {
   "cell_type": "code",
   "execution_count": null,
   "metadata": {},
   "outputs": [],
   "source": [
    "def non_start(a, b):\n",
    "  mystring = ''\n",
    "  \n",
    "  for item in (a,b):\n",
    "      mystring = a[1:]+b[1:]\n",
    "  return mystring"
   ]
  },
  {
   "cell_type": "code",
   "execution_count": null,
   "metadata": {},
   "outputs": [],
   "source": [
    "mystring = 'lsakdujghfalrkjh'\n",
    "newstring= (len(mystring)/2)\n",
    "print (newstring)"
   ]
  },
  {
   "cell_type": "code",
   "execution_count": null,
   "metadata": {},
   "outputs": [],
   "source": [
    "def myfunc(word):\n",
    "    result = \"\"\n",
    "    index = 0\n",
    "    for letter in word:\n",
    "        if index % 2 == 0:\n",
    "            result += letter.lower()\n",
    "        else:\n",
    "            result += letter.upper()\n",
    "        index += 1\n",
    "    return result"
   ]
  },
  {
   "cell_type": "code",
   "execution_count": null,
   "metadata": {},
   "outputs": [],
   "source": [
    "#my solution\n",
    "def lesser_greater(a,b):\n",
    "    for num in a,b:\n",
    "        if a%2 == 0  and b%2 == 0 :\n",
    "            if a>b:\n",
    "                return a\n",
    "            else:\n",
    "                pass\n",
    "            if b>a:\n",
    "                return b\n",
    "        else:\n",
    "            if a>b:\n",
    "                return a\n",
    "            else:\n",
    "                pass\n",
    "            if b>a:\n",
    "                return b"
   ]
  },
  {
   "cell_type": "code",
   "execution_count": null,
   "metadata": {},
   "outputs": [],
   "source": [
    "lesser_greater(15,17)"
   ]
  },
  {
   "cell_type": "code",
   "execution_count": null,
   "metadata": {},
   "outputs": [],
   "source": [
    "#Given a string,\n",
    "#return the count of th nmbr of times that a substring length 2 appears in th string and also as th last 2 chars of the string\n",
    "#so \"hixxxhi\" yields 1 (we won't count the end substring).\n",
    "#last2('hixxhi') → 1\n",
    "#last2('xaxxaxaxx') → 1\n",
    "#last2('axxxaaxx') → 2\n",
    "\n",
    "#το λυσαμε στην τυχη πρεπει και να το καταλαβουμε\n",
    "def nutbuster1(str):\n",
    "    nutbuster1 = str[-2:] # απο το τελος του στρινγκ μεχρι και την προτελευταια θεση πχ hixx--hi--,xaxxaxa---xx--,axxxaa--xx--\n",
    "    return sum(1 for i in range(len(str)-2) if str[i:i+2] == nutbuster1)"
   ]
  },
  {
   "cell_type": "code",
   "execution_count": null,
   "metadata": {},
   "outputs": [],
   "source": [
    "nutbuster1('1717171')"
   ]
  },
  {
   "cell_type": "code",
   "execution_count": null,
   "metadata": {},
   "outputs": [],
   "source": [
    "nutbuster1('xxaxxaxxaxx')"
   ]
  },
  {
   "cell_type": "code",
   "execution_count": null,
   "metadata": {},
   "outputs": [],
   "source": [
    "#Given an array of ints, return the number of 9's in the array.\n",
    "#array_count9([1, 2, 9]) → 1\n",
    "#array_count9([1, 9, 9]) → 2\n",
    "#array_count9([1, 9, 9, 3, 9]) → 3\n",
    "\n",
    "def array_count9(nums):\n",
    "    return nums.count(9)"
   ]
  },
  {
   "cell_type": "code",
   "execution_count": null,
   "metadata": {},
   "outputs": [],
   "source": [
    "array_count9([1,2,34,5,9,7,9,8,9,4,6,5,9])"
   ]
  },
  {
   "cell_type": "code",
   "execution_count": null,
   "metadata": {},
   "outputs": [],
   "source": [
    "def capital_function(str):\n",
    "    newstr = str[0].upper() + str[1:3].lower() + str[3].upper() + str[4:]\n",
    "    return newstr"
   ]
  },
  {
   "cell_type": "code",
   "execution_count": null,
   "metadata": {},
   "outputs": [],
   "source": [
    "capital_function('maczarbonis')"
   ]
  },
  {
   "cell_type": "code",
   "execution_count": null,
   "metadata": {
    "scrolled": true
   },
   "outputs": [],
   "source": [
    "def masteryoda(str):\n",
    "    yodastr = str[::-1]\n",
    "    return yodastr"
   ]
  },
  {
   "cell_type": "code",
   "execution_count": null,
   "metadata": {},
   "outputs": [],
   "source": [
    "masteryoda('you must be patient')\n",
    "#axaxaxa ti perimenes malaka"
   ]
  },
  {
   "cell_type": "code",
   "execution_count": null,
   "metadata": {},
   "outputs": [],
   "source": [
    "def masteryoda(str):\n",
    "    yodastr = str.split()\n",
    "    finalyoda = yodastr[::-1]\n",
    "    return finalyoda"
   ]
  },
  {
   "cell_type": "code",
   "execution_count": null,
   "metadata": {},
   "outputs": [],
   "source": [
    "masteryoda('you must be patient')"
   ]
  },
  {
   "cell_type": "code",
   "execution_count": null,
   "metadata": {},
   "outputs": [],
   "source": [
    "#Given an integer n, return True if n is within 10 of either 100 or 200\n",
    "def whithin_range(n):\n",
    "    if n in range(90,110) or n in range(190,210):\n",
    "        return True\n",
    "    else:\n",
    "        return False"
   ]
  },
  {
   "cell_type": "code",
   "execution_count": null,
   "metadata": {},
   "outputs": [],
   "source": [
    "whithin_range(89)"
   ]
  },
  {
   "cell_type": "code",
   "execution_count": null,
   "metadata": {},
   "outputs": [],
   "source": [
    "def has_33_incorrect(x):\n",
    "  print(\"\\nRunning the incorrect function\")\n",
    "  for i in range(len(x)-1):\n",
    "    print(\"Checking indices {} and {}\".format(i, i+1))\n",
    "    if x[i:i+2] == [3,3]:\n",
    "      print(\"indices contain 2 consecutive 3's. Returning true\")\n",
    "      return True\n",
    "    else:\n",
    "      print(\"indices don't contain 2 consecutive 3's. Returning false\")\n",
    "      return False\n",
    "\n",
    "def has_33_correct(x):\n",
    "  print(\"\\nRunning the correct function\")\n",
    "  for i in range(len(x)-1):\n",
    "    print(\"Checking indices {} and {}\".format(i, i+1))\n",
    "    if x[i:i+2] == [3,3]:\n",
    "      print(\"indices contain 2 consecutive 3's. Returning true\")\n",
    "      return True\n",
    "  print(\"Did not find consecutive 3's. Returning false\")\n",
    "  return False\n",
    "\n",
    "\n",
    "list = [1, 2, 4, 5, 6, 3, 3, 2, 5]\n",
    "has_33_incorrect(list)\n",
    "has_33_correct(list)"
   ]
  },
  {
   "cell_type": "code",
   "execution_count": null,
   "metadata": {},
   "outputs": [],
   "source": [
    "def has_33(*args):\n",
    "    current = None\n",
    "    for item in args:\n",
    "        if current == item == 3:\n",
    "            return True\n",
    "        current = item\n",
    "    return False"
   ]
  },
  {
   "cell_type": "code",
   "execution_count": null,
   "metadata": {},
   "outputs": [],
   "source": [
    "has_33(1,2,3,4,5,6,7,8)"
   ]
  },
  {
   "cell_type": "code",
   "execution_count": null,
   "metadata": {},
   "outputs": [],
   "source": [
    "#Given a string, return a string where for every character in the original there are three characters\n",
    "def paper_doll(str):\n",
    "    mult = 3\n",
    "    str.join([char*mult for char in str])\n",
    "    return str"
   ]
  },
  {
   "cell_type": "code",
   "execution_count": null,
   "metadata": {},
   "outputs": [],
   "source": [
    "paper_doll('mahadev')"
   ]
  },
  {
   "cell_type": "code",
   "execution_count": null,
   "metadata": {},
   "outputs": [],
   "source": [
    "num1 = input(\"enter a number: \")\n",
    "num2 = input(\"enter another number¨ \")\n",
    "result = float(num1) + float(num2) + 3"
   ]
  },
  {
   "cell_type": "code",
   "execution_count": null,
   "metadata": {},
   "outputs": [],
   "source": [
    "print(result)"
   ]
  },
  {
   "cell_type": "code",
   "execution_count": null,
   "metadata": {},
   "outputs": [],
   "source": [
    "#Mad libs games\n",
    "name = input(\"name:\")\n",
    "name2 = input(\"another name:\")\n",
    "location = input(\"location:\")\n",
    "action = input(\"what to do:\")\n",
    "action2 = input(\"what to do:\")\n",
    "print(\"Oh, there once was a hero named \" + name)\n",
    "print(\"Who came riding to Whiterun from ole \" + location)\n",
    "print(\"And the \" + name2 + \" did swagger and brandish his \" + action)\n",
    "print(\"As he told of bold \" + action2 + \" he had made\")"
   ]
  },
  {
   "cell_type": "code",
   "execution_count": null,
   "metadata": {},
   "outputs": [],
   "source": [
    "#list in python\n",
    "levels = [10,15,16,12,13,14]\n",
    "npcs = [\"gimli\",\"sivli\",\"fivli\",\"rivli\",\"kivli\"]\n",
    "npcs.append(\"Kostaras\")\n",
    "npcs[1] = \"Vaggelas\"\n",
    "npcs.extend(levels)\n",
    "npcs.insert(1,\"yo\")\n",
    "npcs.remove(\"gimli\")\n",
    "npcs.pop()\n",
    "print(npcs)\n",
    "print(npcs.index(\"Vaggelas\"))\n",
    "print(npcs.count(\"yo\"))\n",
    "print(levels.sort())"
   ]
  },
  {
   "cell_type": "code",
   "execution_count": null,
   "metadata": {},
   "outputs": [],
   "source": [
    "#Object Oriented Programming Test\n",
    "class NonPlayerChars():\n",
    "    \n",
    "    def __init__(self,levels,hp,ac,attributes,money,feats,skills):\n",
    "        self.patates = levels\n",
    "        self.hipoints = hp\n",
    "        self.ac = ac\n",
    "        self.attributes = attributes\n",
    "        self.money = money\n",
    "        self.feats = feats\n",
    "        self.skills = skills\n",
    "#για καποιο λογο οταν αλαζω το περιεχομενο μετα απο την τελια πχ self.levels = levels σε self.patates = patates δεν σπαει κατι"
   ]
  },
  {
   "cell_type": "code",
   "execution_count": null,
   "metadata": {},
   "outputs": [],
   "source": [
    "my_npc = NonPlayerChars(levels = 1, hp = 10, ac = 10, attributes = True, money = \"10sp\", feats = False, skills = True)"
   ]
  },
  {
   "cell_type": "code",
   "execution_count": null,
   "metadata": {},
   "outputs": [],
   "source": [
    "type(my_npc)"
   ]
  },
  {
   "cell_type": "code",
   "execution_count": null,
   "metadata": {},
   "outputs": [],
   "source": [
    "my_npc.levels"
   ]
  },
  {
   "cell_type": "code",
   "execution_count": null,
   "metadata": {},
   "outputs": [],
   "source": [
    "import math\n",
    "class Circle():\n",
    "    \n",
    "    def __init__(self,radius):\n",
    "        self.radius = radius\n",
    "        \n",
    "    def get_area(self):\n",
    "        return (self.radius**2)*math.pi\n",
    "    \n",
    "    def get_circumference(self):\n",
    "        return 2*math.pi*self.radius\n",
    "    \n",
    "r = int(input(\"Please enter the circle's radius: \"))\n",
    "circle = Circle(r)\n",
    "print (\"Area of circle: \",round(circle.get_area()))\n",
    "print (\"Circumference: \",round(circle.get_circumference()))"
   ]
  },
  {
   "cell_type": "code",
   "execution_count": null,
   "metadata": {},
   "outputs": [],
   "source": [
    "8**(1/3)"
   ]
  },
  {
   "cell_type": "code",
   "execution_count": null,
   "metadata": {},
   "outputs": [],
   "source": [
    "coordinate1 = (15,10)\n",
    "coordinate2 = (7,3)\n",
    "a = (abs(coordinate1[1] - coordinate1[0]))**2\n",
    "b = (abs(coordinate2[1] - coordinate2[0]))**2\n",
    "c = (a + b)**(1/2)\n",
    "distance = (((coordinate1[0]-coordinate1[1])**2) + ((coordinate2[0]-coordinate2[1])**2))**(1/2)\n",
    "print(a)\n",
    "print(b)\n",
    "print(c)\n",
    "print (distance)\n",
    "print (round(distance))\n",
    "\n",
    "slope = (abs(coordinate2[0]-coordinate2[1]))/(abs((coordinate1[0]-coordinate1[1])))\n",
    "print(slope)"
   ]
  },
  {
   "cell_type": "code",
   "execution_count": null,
   "metadata": {},
   "outputs": [],
   "source": []
  },
  {
   "cell_type": "code",
   "execution_count": null,
   "metadata": {},
   "outputs": [],
   "source": [
    "class Line():\n",
    "    \n",
    "    def __init__(self,coor1):\n",
    "        \n",
    "        self.coor1 = coor1\n",
    "        \n",
    "    def distance(self):\n",
    "        return ((self.coor1[0]-self.coor1[1])**2)\n",
    "    \n",
    "    def slope(self):\n",
    "        return (abs(self.coor1[0]-self.coor1[1]))\n",
    "\n",
    "cor1 = input(\"Enter first coordinate: \")\n",
    "\n",
    "line = Line(cor1)\n",
    "print(Line.slope())"
   ]
  },
  {
   "cell_type": "code",
   "execution_count": 9,
   "metadata": {},
   "outputs": [
    {
     "name": "stdout",
     "output_type": "stream",
     "text": [
      "enter fist coordinate: 10\n",
      "enter second coordinate: 20\n"
     ]
    },
    {
     "ename": "NameError",
     "evalue": "name 'Line' is not defined",
     "output_type": "error",
     "traceback": [
      "\u001b[1;31m---------------------------------------------------------------------------\u001b[0m",
      "\u001b[1;31mNameError\u001b[0m                                 Traceback (most recent call last)",
      "\u001b[1;32m<ipython-input-9-a8965d249118>\u001b[0m in \u001b[0;36m<module>\u001b[1;34m\u001b[0m\n\u001b[0;32m     12\u001b[0m         \u001b[1;32mreturn\u001b[0m \u001b[1;33m(\u001b[0m\u001b[1;33m(\u001b[0m\u001b[1;33m(\u001b[0m\u001b[0mself\u001b[0m\u001b[1;33m.\u001b[0m\u001b[0mcoor1\u001b[0m\u001b[1;33m[\u001b[0m\u001b[1;36m0\u001b[0m\u001b[1;33m]\u001b[0m\u001b[1;33m-\u001b[0m\u001b[0mself\u001b[0m\u001b[1;33m.\u001b[0m\u001b[0mcoor1\u001b[0m\u001b[1;33m[\u001b[0m\u001b[1;36m1\u001b[0m\u001b[1;33m]\u001b[0m\u001b[1;33m)\u001b[0m\u001b[1;33m**\u001b[0m\u001b[1;36m2\u001b[0m\u001b[1;33m)\u001b[0m\u001b[1;33m+\u001b[0m\u001b[1;33m(\u001b[0m\u001b[1;33m(\u001b[0m\u001b[0mself\u001b[0m\u001b[1;33m.\u001b[0m\u001b[0mcoor2\u001b[0m\u001b[1;33m[\u001b[0m\u001b[1;36m0\u001b[0m\u001b[1;33m]\u001b[0m\u001b[1;33m-\u001b[0m\u001b[0mself\u001b[0m\u001b[1;33m.\u001b[0m\u001b[0mcoor2\u001b[0m\u001b[1;33m[\u001b[0m\u001b[1;36m1\u001b[0m\u001b[1;33m]\u001b[0m\u001b[1;33m)\u001b[0m\u001b[1;33m**\u001b[0m\u001b[1;36m2\u001b[0m\u001b[1;33m)\u001b[0m\u001b[1;33m)\u001b[0m\u001b[1;33m**\u001b[0m\u001b[1;33m(\u001b[0m\u001b[1;36m1\u001b[0m\u001b[1;33m/\u001b[0m\u001b[1;36m2\u001b[0m\u001b[1;33m)\u001b[0m\u001b[1;33m\u001b[0m\u001b[1;33m\u001b[0m\u001b[0m\n\u001b[0;32m     13\u001b[0m \u001b[1;33m\u001b[0m\u001b[0m\n\u001b[1;32m---> 14\u001b[1;33m \u001b[0mline\u001b[0m \u001b[1;33m=\u001b[0m \u001b[0mLine\u001b[0m\u001b[1;33m(\u001b[0m\u001b[1;33m)\u001b[0m\u001b[1;33m\u001b[0m\u001b[1;33m\u001b[0m\u001b[0m\n\u001b[0m",
      "\u001b[1;31mNameError\u001b[0m: name 'Line' is not defined"
     ]
    }
   ],
   "source": [
    "class Idea_Line():\n",
    "    c1 = input(\"enter fist coordinate: \")\n",
    "    c2 = input(\"enter second coordinate: \")\n",
    "    \n",
    "    def __init__(self,coor1):\n",
    "        self.coor1 = coor1\n",
    "    \n",
    "    def __init__(self,coor2):\n",
    "        self.coor2 = coor2\n",
    "        \n",
    "    def distance(self,coor1,coor2):\n",
    "        return (((self.coor1[0]-self.coor1[1])**2)+((self.coor2[0]-self.coor2[1])**2))**(1/2)\n",
    "    \n",
    "line = Line()"
   ]
  },
  {
   "cell_type": "code",
   "execution_count": null,
   "metadata": {},
   "outputs": [],
   "source": []
  },
  {
   "cell_type": "code",
   "execution_count": null,
   "metadata": {},
   "outputs": [],
   "source": [
    "#\n",
    "a = []\n",
    "n = int(input(\"Enter an number: \"))\n",
    "\n",
    "for i in range(n):\n",
    "    a.append(int(input(\"Enter an number: \")))\n",
    "    \n",
    "print(type(a))\n",
    "\n",
    "a= tuple(a)\n",
    "\n",
    "print(type(a))"
   ]
  },
  {
   "cell_type": "markdown",
   "metadata": {},
   "source": [
    "# Function Practice Exercises \n",
    "##### Level 2\n",
    "##### FIND 33:\n",
    "##### Given a list of ints, return True if the array contains a 3 next to a 3 somewhere.\n",
    "\n",
    "##### has_33([1, 3, 3]) → True\n",
    "##### has_33([1, 3, 1, 3]) → False\n",
    "##### has_33([3, 1, 3]) → False"
   ]
  },
  {
   "cell_type": "code",
   "execution_count": 99,
   "metadata": {},
   "outputs": [],
   "source": [
    "def has_33(nums):\n",
    "    for item in range(len(nums)-1):\n",
    "        if nums[item] == nums[item + 1] == 3:\n",
    "            return \"same\"\n",
    "        else:\n",
    "            pass\n",
    "    return False"
   ]
  },
  {
   "cell_type": "code",
   "execution_count": 110,
   "metadata": {},
   "outputs": [],
   "source": [
    "nums = [1,4,8,9,6,7,3,3]"
   ]
  },
  {
   "cell_type": "code",
   "execution_count": 111,
   "metadata": {},
   "outputs": [
    {
     "data": {
      "text/plain": [
       "'same'"
      ]
     },
     "execution_count": 111,
     "metadata": {},
     "output_type": "execute_result"
    }
   ],
   "source": [
    "has_33(nums)"
   ]
  },
  {
   "cell_type": "code",
   "execution_count": 272,
   "metadata": {},
   "outputs": [],
   "source": [
    "def black_jack(hand):\n",
    "    total = 0\n",
    "    for i in range(0,len(hand)):\n",
    "        if hand[i] <= 11 and hand[i] >= 1:\n",
    "                total = total + int(hand[i])\n",
    "                print(hand[i],total)\n",
    "                if total > 21:\n",
    "                    print('BUSTED')\n",
    "                elif total == 21:\n",
    "                    print('BLACKJACK')\n",
    "                else:\n",
    "                    pass\n",
    "        else:\n",
    "            print(\"WRONG CARD\")        "
   ]
  },
  {
   "cell_type": "code",
   "execution_count": 273,
   "metadata": {},
   "outputs": [],
   "source": [
    "hand = [4,6,10]"
   ]
  },
  {
   "cell_type": "code",
   "execution_count": 274,
   "metadata": {},
   "outputs": [
    {
     "name": "stdout",
     "output_type": "stream",
     "text": [
      "4 4\n",
      "6 10\n",
      "10 20\n"
     ]
    }
   ],
   "source": [
    "black_jack(hand)"
   ]
  },
  {
   "cell_type": "code",
   "execution_count": 343,
   "metadata": {},
   "outputs": [],
   "source": [
    "def black_jack(hand):\n",
    "    total = 0\n",
    "    boom = 0\n",
    "    for i in range(0,len(hand)):\n",
    "        if hand[i] <= 11 and hand[i] >= 1:\n",
    "            total = total + int(hand[i])\n",
    "            if hand[i] == 11:\n",
    "                boom = -10 \n",
    "            else:\n",
    "                boom = 0\n",
    "        else:\n",
    "            print('WRONG CARD')\n",
    "            break\n",
    "\n",
    "    result = total + boom\n",
    "    print(result)\n",
    "    if boom == -10:\n",
    "        print('BOOM')\n",
    "    else:\n",
    "        pass\n",
    "    if result == 21:\n",
    "        print('BLACKJACK')\n",
    "    elif result > 21:\n",
    "        print('BUSTED')\n",
    "    else:\n",
    "        print(\"Now its my turn\")"
   ]
  },
  {
   "cell_type": "code",
   "execution_count": 344,
   "metadata": {},
   "outputs": [],
   "source": [
    "hand = [10,10,11]"
   ]
  },
  {
   "cell_type": "code",
   "execution_count": 345,
   "metadata": {},
   "outputs": [
    {
     "name": "stdout",
     "output_type": "stream",
     "text": [
      "21\n",
      "BOOM\n",
      "BLACKJACK\n"
     ]
    }
   ],
   "source": [
    "black_jack(hand)"
   ]
  },
  {
   "cell_type": "code",
   "execution_count": null,
   "metadata": {},
   "outputs": [],
   "source": [
    "days = ['Sunday', 'Monday', 'Tuesday', 'Wednesday', 'Thursday', 'Friday', 'Saturday']\n",
    "for d in days[days.index('Monday'):] :\n",
    "    print(d)"
   ]
  },
  {
   "cell_type": "code",
   "execution_count": 155,
   "metadata": {},
   "outputs": [],
   "source": [
    "def new_summer69(lista):\n",
    "    result = []\n",
    "    six = []\n",
    "    nine = []\n",
    "    bucket = []\n",
    "    between = []\n",
    "    for i in range(len(lista)):        \n",
    "        if lista[i] == 6:\n",
    "            six = lista.index(lista[i])\n",
    "            bucket.append(lista[i])\n",
    "        elif lista[i] == 9:\n",
    "            nine = lista.index(lista[i])\n",
    "            bucket.append(lista[i])\n",
    "        else:\n",
    "            continue\n",
    "            \n",
    "    for i in range(0,six): \n",
    "        result.append(lista[i])\n",
    "    \n",
    "    for i in range(nine + 1,len(lista)):\n",
    "        result.append(lista[i])\n",
    "    print(result)\n",
    "    print(sum(result))"
   ]
  },
  {
   "cell_type": "code",
   "execution_count": 156,
   "metadata": {},
   "outputs": [],
   "source": [
    "lista = [1, 3, 5]"
   ]
  },
  {
   "cell_type": "code",
   "execution_count": 157,
   "metadata": {},
   "outputs": [
    {
     "ename": "NameError",
     "evalue": "name 'summer_of_69' is not defined",
     "output_type": "error",
     "traceback": [
      "\u001b[1;31m---------------------------------------------------------------------------\u001b[0m",
      "\u001b[1;31mNameError\u001b[0m                                 Traceback (most recent call last)",
      "\u001b[1;32m<ipython-input-157-0380f4f45c9e>\u001b[0m in \u001b[0;36m<module>\u001b[1;34m\u001b[0m\n\u001b[1;32m----> 1\u001b[1;33m \u001b[0msummer_of_69\u001b[0m\u001b[1;33m(\u001b[0m\u001b[0mlista\u001b[0m\u001b[1;33m)\u001b[0m\u001b[1;33m\u001b[0m\u001b[1;33m\u001b[0m\u001b[0m\n\u001b[0m",
      "\u001b[1;31mNameError\u001b[0m: name 'summer_of_69' is not defined"
     ]
    }
   ],
   "source": [
    "summer_of_69(lista)"
   ]
  },
  {
   "cell_type": "code",
   "execution_count": 151,
   "metadata": {},
   "outputs": [],
   "source": [
    "def new_summer69(lista):\n",
    "    result = []\n",
    "    six = []\n",
    "    nine = []\n",
    "    bucket = []\n",
    "    between = []\n",
    "    for i in range(len(lista)):        \n",
    "        if lista[i] == 6:\n",
    "            six = lista.index(lista[i])\n",
    "            bucket.append(lista[i])\n",
    "        elif lista[i] == 9:\n",
    "            nine = lista.index(lista[i])\n",
    "            bucket.append(lista[i])\n",
    "        else:\n",
    "            continue\n",
    "            \n",
    "    for i in range(0,six): \n",
    "        result.append(lista[i])\n",
    "    \n",
    "    for i in range(nine + 1,len(lista)):\n",
    "        result.append(lista[i])\n",
    "    print(result)\n",
    "    print(sum(result))"
   ]
  },
  {
   "cell_type": "code",
   "execution_count": 153,
   "metadata": {},
   "outputs": [],
   "source": [
    "lista = [4, 5, 6, 7, 8, 9]"
   ]
  },
  {
   "cell_type": "code",
   "execution_count": 154,
   "metadata": {},
   "outputs": [
    {
     "name": "stdout",
     "output_type": "stream",
     "text": [
      "[4, 5]\n",
      "9\n"
     ]
    }
   ],
   "source": [
    "new_summer69(lista)"
   ]
  },
  {
   "cell_type": "code",
   "execution_count": 123,
   "metadata": {},
   "outputs": [],
   "source": [
    "def new_summer69(lista):\n",
    "    result = []\n",
    "    six = []\n",
    "    nine = []\n",
    "    bucket = []\n",
    "    for i in range(len(lista)):    \n",
    "        if (lista[i] != 6) and (lista[i] !=9):\n",
    "            result.append(lista[i])\n",
    "            print(result)\n",
    "            print(\"--------------\")\n",
    "        elif lista[i] == 6:\n",
    "            six = lista.index(lista[i])\n",
    "            bucket.append(lista[i])\n",
    "            print(six)\n",
    "            print(bucket)\n",
    "            print(\"++++++++++++++++++\")\n",
    "        elif lista[i] == 9:\n",
    "            nine = lista.index(lista[i])\n",
    "            bucket.append(lista[i])\n",
    "            print(nine)\n",
    "            print(bucket)\n",
    "            print(\"++++++++++++++++++\")\n",
    "        else:\n",
    "            continue\n",
    "    \n",
    "    for i in range(six, nine):\n",
    "        result.pop(i)\n",
    "        print(result)\n",
    "        print(\"_________________\")"
   ]
  },
  {
   "cell_type": "code",
   "execution_count": 124,
   "metadata": {},
   "outputs": [],
   "source": [
    "lista = [4, 5, 6, 7, 8, 9]"
   ]
  },
  {
   "cell_type": "code",
   "execution_count": 125,
   "metadata": {},
   "outputs": [
    {
     "name": "stdout",
     "output_type": "stream",
     "text": [
      "[4]\n",
      "--------------\n",
      "[4, 5]\n",
      "--------------\n",
      "2\n",
      "[6]\n",
      "++++++++++++++++++\n",
      "[4, 5, 7]\n",
      "--------------\n",
      "[4, 5, 7, 8]\n",
      "--------------\n",
      "5\n",
      "[6, 9]\n",
      "++++++++++++++++++\n",
      "[4, 5, 8]\n",
      "_________________\n"
     ]
    },
    {
     "ename": "IndexError",
     "evalue": "pop index out of range",
     "output_type": "error",
     "traceback": [
      "\u001b[1;31m---------------------------------------------------------------------------\u001b[0m",
      "\u001b[1;31mIndexError\u001b[0m                                Traceback (most recent call last)",
      "\u001b[1;32m<ipython-input-125-a64613ac3fc5>\u001b[0m in \u001b[0;36m<module>\u001b[1;34m\u001b[0m\n\u001b[1;32m----> 1\u001b[1;33m \u001b[0mnew_summer69\u001b[0m\u001b[1;33m(\u001b[0m\u001b[0mlista\u001b[0m\u001b[1;33m)\u001b[0m\u001b[1;33m\u001b[0m\u001b[1;33m\u001b[0m\u001b[0m\n\u001b[0m",
      "\u001b[1;32m<ipython-input-123-4b9cf2e668c2>\u001b[0m in \u001b[0;36mnew_summer69\u001b[1;34m(lista)\u001b[0m\n\u001b[0;32m     25\u001b[0m \u001b[1;33m\u001b[0m\u001b[0m\n\u001b[0;32m     26\u001b[0m     \u001b[1;32mfor\u001b[0m \u001b[0mi\u001b[0m \u001b[1;32min\u001b[0m \u001b[0mrange\u001b[0m\u001b[1;33m(\u001b[0m\u001b[0msix\u001b[0m\u001b[1;33m,\u001b[0m \u001b[0mnine\u001b[0m\u001b[1;33m)\u001b[0m\u001b[1;33m:\u001b[0m\u001b[1;33m\u001b[0m\u001b[1;33m\u001b[0m\u001b[0m\n\u001b[1;32m---> 27\u001b[1;33m         \u001b[0mresult\u001b[0m\u001b[1;33m.\u001b[0m\u001b[0mpop\u001b[0m\u001b[1;33m(\u001b[0m\u001b[0mi\u001b[0m\u001b[1;33m)\u001b[0m\u001b[1;33m\u001b[0m\u001b[1;33m\u001b[0m\u001b[0m\n\u001b[0m\u001b[0;32m     28\u001b[0m         \u001b[0mprint\u001b[0m\u001b[1;33m(\u001b[0m\u001b[0mresult\u001b[0m\u001b[1;33m)\u001b[0m\u001b[1;33m\u001b[0m\u001b[1;33m\u001b[0m\u001b[0m\n\u001b[0;32m     29\u001b[0m         \u001b[0mprint\u001b[0m\u001b[1;33m(\u001b[0m\u001b[1;34m\"_________________\"\u001b[0m\u001b[1;33m)\u001b[0m\u001b[1;33m\u001b[0m\u001b[1;33m\u001b[0m\u001b[0m\n",
      "\u001b[1;31mIndexError\u001b[0m: pop index out of range"
     ]
    }
   ],
   "source": [
    "new_summer69(lista)"
   ]
  },
  {
   "cell_type": "code",
   "execution_count": null,
   "metadata": {},
   "outputs": [],
   "source": []
  }
 ],
 "metadata": {
  "kernelspec": {
   "display_name": "Python 3",
   "language": "python",
   "name": "python3"
  },
  "language_info": {
   "codemirror_mode": {
    "name": "ipython",
    "version": 3
   },
   "file_extension": ".py",
   "mimetype": "text/x-python",
   "name": "python",
   "nbconvert_exporter": "python",
   "pygments_lexer": "ipython3",
   "version": "3.8.5"
  }
 },
 "nbformat": 4,
 "nbformat_minor": 4
}
## this is a comment to differenciate between main and branch
